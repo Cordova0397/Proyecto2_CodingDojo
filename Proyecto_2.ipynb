{
  "nbformat": 4,
  "nbformat_minor": 0,
  "metadata": {
    "colab": {
      "provenance": [],
      "mount_file_id": "1H-9dossoFjxG8fNamMwX7pVcyBvAjAA0",
      "authorship_tag": "ABX9TyMGjb9wwFs0kDKdPZSN/6Mi",
      "include_colab_link": true
    },
    "kernelspec": {
      "name": "python3",
      "display_name": "Python 3"
    },
    "language_info": {
      "name": "python"
    }
  },
  "cells": [
    {
      "cell_type": "markdown",
      "metadata": {
        "id": "view-in-github",
        "colab_type": "text"
      },
      "source": [
        "<a href=\"https://colab.research.google.com/github/Cordova0397/Proyecto2_CodingDojo/blob/main/Proyecto_2.ipynb\" target=\"_parent\"><img src=\"https://colab.research.google.com/assets/colab-badge.svg\" alt=\"Open In Colab\"/></a>"
      ]
    },
    {
      "cell_type": "code",
      "execution_count": 59,
      "metadata": {
        "id": "qVOBN8Jq2Egg"
      },
      "outputs": [],
      "source": [
        "import pandas as pd\n",
        "import matplotlib.pyplot as plt\n",
        "import seaborn as sns\n",
        "from sklearn.preprocessing import LabelEncoder\n",
        "from google.colab import files"
      ]
    },
    {
      "cell_type": "markdown",
      "source": [
        "# ANalizando la Data"
      ],
      "metadata": {
        "id": "_CYaJkEkdiCA"
      }
    },
    {
      "cell_type": "code",
      "source": [
        "df = pd.read_csv('/content/drive/MyDrive/Proyecto2_DataSet/Mental Health Dataset.csv')"
      ],
      "metadata": {
        "id": "WVxLaO67lfBW"
      },
      "execution_count": 60,
      "outputs": []
    },
    {
      "cell_type": "code",
      "source": [
        "df.info()"
      ],
      "metadata": {
        "colab": {
          "base_uri": "https://localhost:8080/"
        },
        "id": "OrgujTuYll4j",
        "outputId": "1d82e7f6-9c4d-4f82-bd80-a49e15ef6b85"
      },
      "execution_count": 61,
      "outputs": [
        {
          "output_type": "stream",
          "name": "stdout",
          "text": [
            "<class 'pandas.core.frame.DataFrame'>\n",
            "RangeIndex: 292364 entries, 0 to 292363\n",
            "Data columns (total 17 columns):\n",
            " #   Column                   Non-Null Count   Dtype \n",
            "---  ------                   --------------   ----- \n",
            " 0   Timestamp                292364 non-null  object\n",
            " 1   Gender                   292364 non-null  object\n",
            " 2   Country                  292364 non-null  object\n",
            " 3   Occupation               292364 non-null  object\n",
            " 4   self_employed            287162 non-null  object\n",
            " 5   family_history           292364 non-null  object\n",
            " 6   treatment                292364 non-null  object\n",
            " 7   Days_Indoors             292364 non-null  object\n",
            " 8   Growing_Stress           292364 non-null  object\n",
            " 9   Changes_Habits           292364 non-null  object\n",
            " 10  Mental_Health_History    292364 non-null  object\n",
            " 11  Mood_Swings              292364 non-null  object\n",
            " 12  Coping_Struggles         292364 non-null  object\n",
            " 13  Work_Interest            292364 non-null  object\n",
            " 14  Social_Weakness          292364 non-null  object\n",
            " 15  mental_health_interview  292364 non-null  object\n",
            " 16  care_options             292364 non-null  object\n",
            "dtypes: object(17)\n",
            "memory usage: 37.9+ MB\n"
          ]
        }
      ]
    },
    {
      "cell_type": "code",
      "source": [
        "df.head()"
      ],
      "metadata": {
        "colab": {
          "base_uri": "https://localhost:8080/",
          "height": 400
        },
        "id": "pfCh8LeZloqs",
        "outputId": "41854722-440a-46e7-910d-7a55d69eb275"
      },
      "execution_count": 62,
      "outputs": [
        {
          "output_type": "execute_result",
          "data": {
            "text/plain": [
              "             Timestamp  Gender        Country Occupation self_employed  \\\n",
              "0  2014-08-27 11:29:31  Female  United States  Corporate           NaN   \n",
              "1  2014-08-27 11:31:50  Female  United States  Corporate           NaN   \n",
              "2  2014-08-27 11:32:39  Female  United States  Corporate           NaN   \n",
              "3  2014-08-27 11:37:59  Female  United States  Corporate            No   \n",
              "4  2014-08-27 11:43:36  Female  United States  Corporate            No   \n",
              "\n",
              "  family_history treatment Days_Indoors Growing_Stress Changes_Habits  \\\n",
              "0             No       Yes    1-14 days            Yes             No   \n",
              "1            Yes       Yes    1-14 days            Yes             No   \n",
              "2            Yes       Yes    1-14 days            Yes             No   \n",
              "3            Yes       Yes    1-14 days            Yes             No   \n",
              "4            Yes       Yes    1-14 days            Yes             No   \n",
              "\n",
              "  Mental_Health_History Mood_Swings Coping_Struggles Work_Interest  \\\n",
              "0                   Yes      Medium               No            No   \n",
              "1                   Yes      Medium               No            No   \n",
              "2                   Yes      Medium               No            No   \n",
              "3                   Yes      Medium               No            No   \n",
              "4                   Yes      Medium               No            No   \n",
              "\n",
              "  Social_Weakness mental_health_interview care_options  \n",
              "0             Yes                      No     Not sure  \n",
              "1             Yes                      No           No  \n",
              "2             Yes                      No          Yes  \n",
              "3             Yes                   Maybe          Yes  \n",
              "4             Yes                      No          Yes  "
            ],
            "text/html": [
              "\n",
              "  <div id=\"df-94dea5d9-7fdb-4aad-91a2-887275b9c0de\" class=\"colab-df-container\">\n",
              "    <div>\n",
              "<style scoped>\n",
              "    .dataframe tbody tr th:only-of-type {\n",
              "        vertical-align: middle;\n",
              "    }\n",
              "\n",
              "    .dataframe tbody tr th {\n",
              "        vertical-align: top;\n",
              "    }\n",
              "\n",
              "    .dataframe thead th {\n",
              "        text-align: right;\n",
              "    }\n",
              "</style>\n",
              "<table border=\"1\" class=\"dataframe\">\n",
              "  <thead>\n",
              "    <tr style=\"text-align: right;\">\n",
              "      <th></th>\n",
              "      <th>Timestamp</th>\n",
              "      <th>Gender</th>\n",
              "      <th>Country</th>\n",
              "      <th>Occupation</th>\n",
              "      <th>self_employed</th>\n",
              "      <th>family_history</th>\n",
              "      <th>treatment</th>\n",
              "      <th>Days_Indoors</th>\n",
              "      <th>Growing_Stress</th>\n",
              "      <th>Changes_Habits</th>\n",
              "      <th>Mental_Health_History</th>\n",
              "      <th>Mood_Swings</th>\n",
              "      <th>Coping_Struggles</th>\n",
              "      <th>Work_Interest</th>\n",
              "      <th>Social_Weakness</th>\n",
              "      <th>mental_health_interview</th>\n",
              "      <th>care_options</th>\n",
              "    </tr>\n",
              "  </thead>\n",
              "  <tbody>\n",
              "    <tr>\n",
              "      <th>0</th>\n",
              "      <td>2014-08-27 11:29:31</td>\n",
              "      <td>Female</td>\n",
              "      <td>United States</td>\n",
              "      <td>Corporate</td>\n",
              "      <td>NaN</td>\n",
              "      <td>No</td>\n",
              "      <td>Yes</td>\n",
              "      <td>1-14 days</td>\n",
              "      <td>Yes</td>\n",
              "      <td>No</td>\n",
              "      <td>Yes</td>\n",
              "      <td>Medium</td>\n",
              "      <td>No</td>\n",
              "      <td>No</td>\n",
              "      <td>Yes</td>\n",
              "      <td>No</td>\n",
              "      <td>Not sure</td>\n",
              "    </tr>\n",
              "    <tr>\n",
              "      <th>1</th>\n",
              "      <td>2014-08-27 11:31:50</td>\n",
              "      <td>Female</td>\n",
              "      <td>United States</td>\n",
              "      <td>Corporate</td>\n",
              "      <td>NaN</td>\n",
              "      <td>Yes</td>\n",
              "      <td>Yes</td>\n",
              "      <td>1-14 days</td>\n",
              "      <td>Yes</td>\n",
              "      <td>No</td>\n",
              "      <td>Yes</td>\n",
              "      <td>Medium</td>\n",
              "      <td>No</td>\n",
              "      <td>No</td>\n",
              "      <td>Yes</td>\n",
              "      <td>No</td>\n",
              "      <td>No</td>\n",
              "    </tr>\n",
              "    <tr>\n",
              "      <th>2</th>\n",
              "      <td>2014-08-27 11:32:39</td>\n",
              "      <td>Female</td>\n",
              "      <td>United States</td>\n",
              "      <td>Corporate</td>\n",
              "      <td>NaN</td>\n",
              "      <td>Yes</td>\n",
              "      <td>Yes</td>\n",
              "      <td>1-14 days</td>\n",
              "      <td>Yes</td>\n",
              "      <td>No</td>\n",
              "      <td>Yes</td>\n",
              "      <td>Medium</td>\n",
              "      <td>No</td>\n",
              "      <td>No</td>\n",
              "      <td>Yes</td>\n",
              "      <td>No</td>\n",
              "      <td>Yes</td>\n",
              "    </tr>\n",
              "    <tr>\n",
              "      <th>3</th>\n",
              "      <td>2014-08-27 11:37:59</td>\n",
              "      <td>Female</td>\n",
              "      <td>United States</td>\n",
              "      <td>Corporate</td>\n",
              "      <td>No</td>\n",
              "      <td>Yes</td>\n",
              "      <td>Yes</td>\n",
              "      <td>1-14 days</td>\n",
              "      <td>Yes</td>\n",
              "      <td>No</td>\n",
              "      <td>Yes</td>\n",
              "      <td>Medium</td>\n",
              "      <td>No</td>\n",
              "      <td>No</td>\n",
              "      <td>Yes</td>\n",
              "      <td>Maybe</td>\n",
              "      <td>Yes</td>\n",
              "    </tr>\n",
              "    <tr>\n",
              "      <th>4</th>\n",
              "      <td>2014-08-27 11:43:36</td>\n",
              "      <td>Female</td>\n",
              "      <td>United States</td>\n",
              "      <td>Corporate</td>\n",
              "      <td>No</td>\n",
              "      <td>Yes</td>\n",
              "      <td>Yes</td>\n",
              "      <td>1-14 days</td>\n",
              "      <td>Yes</td>\n",
              "      <td>No</td>\n",
              "      <td>Yes</td>\n",
              "      <td>Medium</td>\n",
              "      <td>No</td>\n",
              "      <td>No</td>\n",
              "      <td>Yes</td>\n",
              "      <td>No</td>\n",
              "      <td>Yes</td>\n",
              "    </tr>\n",
              "  </tbody>\n",
              "</table>\n",
              "</div>\n",
              "    <div class=\"colab-df-buttons\">\n",
              "\n",
              "  <div class=\"colab-df-container\">\n",
              "    <button class=\"colab-df-convert\" onclick=\"convertToInteractive('df-94dea5d9-7fdb-4aad-91a2-887275b9c0de')\"\n",
              "            title=\"Convert this dataframe to an interactive table.\"\n",
              "            style=\"display:none;\">\n",
              "\n",
              "  <svg xmlns=\"http://www.w3.org/2000/svg\" height=\"24px\" viewBox=\"0 -960 960 960\">\n",
              "    <path d=\"M120-120v-720h720v720H120Zm60-500h600v-160H180v160Zm220 220h160v-160H400v160Zm0 220h160v-160H400v160ZM180-400h160v-160H180v160Zm440 0h160v-160H620v160ZM180-180h160v-160H180v160Zm440 0h160v-160H620v160Z\"/>\n",
              "  </svg>\n",
              "    </button>\n",
              "\n",
              "  <style>\n",
              "    .colab-df-container {\n",
              "      display:flex;\n",
              "      gap: 12px;\n",
              "    }\n",
              "\n",
              "    .colab-df-convert {\n",
              "      background-color: #E8F0FE;\n",
              "      border: none;\n",
              "      border-radius: 50%;\n",
              "      cursor: pointer;\n",
              "      display: none;\n",
              "      fill: #1967D2;\n",
              "      height: 32px;\n",
              "      padding: 0 0 0 0;\n",
              "      width: 32px;\n",
              "    }\n",
              "\n",
              "    .colab-df-convert:hover {\n",
              "      background-color: #E2EBFA;\n",
              "      box-shadow: 0px 1px 2px rgba(60, 64, 67, 0.3), 0px 1px 3px 1px rgba(60, 64, 67, 0.15);\n",
              "      fill: #174EA6;\n",
              "    }\n",
              "\n",
              "    .colab-df-buttons div {\n",
              "      margin-bottom: 4px;\n",
              "    }\n",
              "\n",
              "    [theme=dark] .colab-df-convert {\n",
              "      background-color: #3B4455;\n",
              "      fill: #D2E3FC;\n",
              "    }\n",
              "\n",
              "    [theme=dark] .colab-df-convert:hover {\n",
              "      background-color: #434B5C;\n",
              "      box-shadow: 0px 1px 3px 1px rgba(0, 0, 0, 0.15);\n",
              "      filter: drop-shadow(0px 1px 2px rgba(0, 0, 0, 0.3));\n",
              "      fill: #FFFFFF;\n",
              "    }\n",
              "  </style>\n",
              "\n",
              "    <script>\n",
              "      const buttonEl =\n",
              "        document.querySelector('#df-94dea5d9-7fdb-4aad-91a2-887275b9c0de button.colab-df-convert');\n",
              "      buttonEl.style.display =\n",
              "        google.colab.kernel.accessAllowed ? 'block' : 'none';\n",
              "\n",
              "      async function convertToInteractive(key) {\n",
              "        const element = document.querySelector('#df-94dea5d9-7fdb-4aad-91a2-887275b9c0de');\n",
              "        const dataTable =\n",
              "          await google.colab.kernel.invokeFunction('convertToInteractive',\n",
              "                                                    [key], {});\n",
              "        if (!dataTable) return;\n",
              "\n",
              "        const docLinkHtml = 'Like what you see? Visit the ' +\n",
              "          '<a target=\"_blank\" href=https://colab.research.google.com/notebooks/data_table.ipynb>data table notebook</a>'\n",
              "          + ' to learn more about interactive tables.';\n",
              "        element.innerHTML = '';\n",
              "        dataTable['output_type'] = 'display_data';\n",
              "        await google.colab.output.renderOutput(dataTable, element);\n",
              "        const docLink = document.createElement('div');\n",
              "        docLink.innerHTML = docLinkHtml;\n",
              "        element.appendChild(docLink);\n",
              "      }\n",
              "    </script>\n",
              "  </div>\n",
              "\n",
              "\n",
              "<div id=\"df-f5e6d45d-de8d-48f8-ba7c-0e5e1d3efc91\">\n",
              "  <button class=\"colab-df-quickchart\" onclick=\"quickchart('df-f5e6d45d-de8d-48f8-ba7c-0e5e1d3efc91')\"\n",
              "            title=\"Suggest charts\"\n",
              "            style=\"display:none;\">\n",
              "\n",
              "<svg xmlns=\"http://www.w3.org/2000/svg\" height=\"24px\"viewBox=\"0 0 24 24\"\n",
              "     width=\"24px\">\n",
              "    <g>\n",
              "        <path d=\"M19 3H5c-1.1 0-2 .9-2 2v14c0 1.1.9 2 2 2h14c1.1 0 2-.9 2-2V5c0-1.1-.9-2-2-2zM9 17H7v-7h2v7zm4 0h-2V7h2v10zm4 0h-2v-4h2v4z\"/>\n",
              "    </g>\n",
              "</svg>\n",
              "  </button>\n",
              "\n",
              "<style>\n",
              "  .colab-df-quickchart {\n",
              "      --bg-color: #E8F0FE;\n",
              "      --fill-color: #1967D2;\n",
              "      --hover-bg-color: #E2EBFA;\n",
              "      --hover-fill-color: #174EA6;\n",
              "      --disabled-fill-color: #AAA;\n",
              "      --disabled-bg-color: #DDD;\n",
              "  }\n",
              "\n",
              "  [theme=dark] .colab-df-quickchart {\n",
              "      --bg-color: #3B4455;\n",
              "      --fill-color: #D2E3FC;\n",
              "      --hover-bg-color: #434B5C;\n",
              "      --hover-fill-color: #FFFFFF;\n",
              "      --disabled-bg-color: #3B4455;\n",
              "      --disabled-fill-color: #666;\n",
              "  }\n",
              "\n",
              "  .colab-df-quickchart {\n",
              "    background-color: var(--bg-color);\n",
              "    border: none;\n",
              "    border-radius: 50%;\n",
              "    cursor: pointer;\n",
              "    display: none;\n",
              "    fill: var(--fill-color);\n",
              "    height: 32px;\n",
              "    padding: 0;\n",
              "    width: 32px;\n",
              "  }\n",
              "\n",
              "  .colab-df-quickchart:hover {\n",
              "    background-color: var(--hover-bg-color);\n",
              "    box-shadow: 0 1px 2px rgba(60, 64, 67, 0.3), 0 1px 3px 1px rgba(60, 64, 67, 0.15);\n",
              "    fill: var(--button-hover-fill-color);\n",
              "  }\n",
              "\n",
              "  .colab-df-quickchart-complete:disabled,\n",
              "  .colab-df-quickchart-complete:disabled:hover {\n",
              "    background-color: var(--disabled-bg-color);\n",
              "    fill: var(--disabled-fill-color);\n",
              "    box-shadow: none;\n",
              "  }\n",
              "\n",
              "  .colab-df-spinner {\n",
              "    border: 2px solid var(--fill-color);\n",
              "    border-color: transparent;\n",
              "    border-bottom-color: var(--fill-color);\n",
              "    animation:\n",
              "      spin 1s steps(1) infinite;\n",
              "  }\n",
              "\n",
              "  @keyframes spin {\n",
              "    0% {\n",
              "      border-color: transparent;\n",
              "      border-bottom-color: var(--fill-color);\n",
              "      border-left-color: var(--fill-color);\n",
              "    }\n",
              "    20% {\n",
              "      border-color: transparent;\n",
              "      border-left-color: var(--fill-color);\n",
              "      border-top-color: var(--fill-color);\n",
              "    }\n",
              "    30% {\n",
              "      border-color: transparent;\n",
              "      border-left-color: var(--fill-color);\n",
              "      border-top-color: var(--fill-color);\n",
              "      border-right-color: var(--fill-color);\n",
              "    }\n",
              "    40% {\n",
              "      border-color: transparent;\n",
              "      border-right-color: var(--fill-color);\n",
              "      border-top-color: var(--fill-color);\n",
              "    }\n",
              "    60% {\n",
              "      border-color: transparent;\n",
              "      border-right-color: var(--fill-color);\n",
              "    }\n",
              "    80% {\n",
              "      border-color: transparent;\n",
              "      border-right-color: var(--fill-color);\n",
              "      border-bottom-color: var(--fill-color);\n",
              "    }\n",
              "    90% {\n",
              "      border-color: transparent;\n",
              "      border-bottom-color: var(--fill-color);\n",
              "    }\n",
              "  }\n",
              "</style>\n",
              "\n",
              "  <script>\n",
              "    async function quickchart(key) {\n",
              "      const quickchartButtonEl =\n",
              "        document.querySelector('#' + key + ' button');\n",
              "      quickchartButtonEl.disabled = true;  // To prevent multiple clicks.\n",
              "      quickchartButtonEl.classList.add('colab-df-spinner');\n",
              "      try {\n",
              "        const charts = await google.colab.kernel.invokeFunction(\n",
              "            'suggestCharts', [key], {});\n",
              "      } catch (error) {\n",
              "        console.error('Error during call to suggestCharts:', error);\n",
              "      }\n",
              "      quickchartButtonEl.classList.remove('colab-df-spinner');\n",
              "      quickchartButtonEl.classList.add('colab-df-quickchart-complete');\n",
              "    }\n",
              "    (() => {\n",
              "      let quickchartButtonEl =\n",
              "        document.querySelector('#df-f5e6d45d-de8d-48f8-ba7c-0e5e1d3efc91 button');\n",
              "      quickchartButtonEl.style.display =\n",
              "        google.colab.kernel.accessAllowed ? 'block' : 'none';\n",
              "    })();\n",
              "  </script>\n",
              "</div>\n",
              "\n",
              "    </div>\n",
              "  </div>\n"
            ],
            "application/vnd.google.colaboratory.intrinsic+json": {
              "type": "dataframe",
              "variable_name": "df"
            }
          },
          "metadata": {},
          "execution_count": 62
        }
      ]
    },
    {
      "cell_type": "markdown",
      "source": [
        "Identificación y manejo de valores faltantes."
      ],
      "metadata": {
        "id": "px8NclF9cRdf"
      }
    },
    {
      "cell_type": "code",
      "source": [
        "print(df.isnull().sum())"
      ],
      "metadata": {
        "colab": {
          "base_uri": "https://localhost:8080/"
        },
        "id": "dfwGjoE-cUAP",
        "outputId": "6e8108c1-2bc7-4fc3-a5d4-780af8f7630f"
      },
      "execution_count": 63,
      "outputs": [
        {
          "output_type": "stream",
          "name": "stdout",
          "text": [
            "Timestamp                     0\n",
            "Gender                        0\n",
            "Country                       0\n",
            "Occupation                    0\n",
            "self_employed              5202\n",
            "family_history                0\n",
            "treatment                     0\n",
            "Days_Indoors                  0\n",
            "Growing_Stress                0\n",
            "Changes_Habits                0\n",
            "Mental_Health_History         0\n",
            "Mood_Swings                   0\n",
            "Coping_Struggles              0\n",
            "Work_Interest                 0\n",
            "Social_Weakness               0\n",
            "mental_health_interview       0\n",
            "care_options                  0\n",
            "dtype: int64\n"
          ]
        }
      ]
    },
    {
      "cell_type": "code",
      "source": [
        "df = df.dropna()\n",
        "df.info()"
      ],
      "metadata": {
        "colab": {
          "base_uri": "https://localhost:8080/"
        },
        "id": "3LFvIbRzic4s",
        "outputId": "aecb3add-7f24-49ed-fd33-16ecd71248af"
      },
      "execution_count": 64,
      "outputs": [
        {
          "output_type": "stream",
          "name": "stdout",
          "text": [
            "<class 'pandas.core.frame.DataFrame'>\n",
            "Index: 287162 entries, 3 to 292363\n",
            "Data columns (total 17 columns):\n",
            " #   Column                   Non-Null Count   Dtype \n",
            "---  ------                   --------------   ----- \n",
            " 0   Timestamp                287162 non-null  object\n",
            " 1   Gender                   287162 non-null  object\n",
            " 2   Country                  287162 non-null  object\n",
            " 3   Occupation               287162 non-null  object\n",
            " 4   self_employed            287162 non-null  object\n",
            " 5   family_history           287162 non-null  object\n",
            " 6   treatment                287162 non-null  object\n",
            " 7   Days_Indoors             287162 non-null  object\n",
            " 8   Growing_Stress           287162 non-null  object\n",
            " 9   Changes_Habits           287162 non-null  object\n",
            " 10  Mental_Health_History    287162 non-null  object\n",
            " 11  Mood_Swings              287162 non-null  object\n",
            " 12  Coping_Struggles         287162 non-null  object\n",
            " 13  Work_Interest            287162 non-null  object\n",
            " 14  Social_Weakness          287162 non-null  object\n",
            " 15  mental_health_interview  287162 non-null  object\n",
            " 16  care_options             287162 non-null  object\n",
            "dtypes: object(17)\n",
            "memory usage: 39.4+ MB\n"
          ]
        }
      ]
    },
    {
      "cell_type": "markdown",
      "source": [
        "Eliminamos las filas con valores nulos para asegurar que todos los registros estén completos y no introduzcan sesgos o errores en el análisis"
      ],
      "metadata": {
        "id": "ngU1dmSxinwE"
      }
    },
    {
      "cell_type": "markdown",
      "source": [
        "Convertir variables categóricas a valores numéricos utilizando Label Encoding"
      ],
      "metadata": {
        "id": "xkSI0YGRdrD4"
      }
    },
    {
      "cell_type": "code",
      "source": [
        "label_encoders = {}\n",
        "for column in data.columns:\n",
        "    if data[column].dtype == 'object':\n",
        "        label_encoders[column] = LabelEncoder()\n",
        "        data[column] = label_encoders[column].fit_transform(data[column].astype(str))"
      ],
      "metadata": {
        "id": "YJteVmGGdkqX"
      },
      "execution_count": 32,
      "outputs": []
    },
    {
      "cell_type": "markdown",
      "source": [
        "Resumen de los datos limpios"
      ],
      "metadata": {
        "id": "sTF5Uw9LeC1q"
      }
    },
    {
      "cell_type": "code",
      "source": [
        "cleaned_data_summary = data.describe(include='all')\n",
        "print(\"\\nResumen de datos limpios:\\n\", cleaned_data_summary)"
      ],
      "metadata": {
        "colab": {
          "base_uri": "https://localhost:8080/"
        },
        "id": "hqujkenfeDHk",
        "outputId": "dad6f1fa-63bb-46ef-ee67-64f966b9c7ea"
      },
      "execution_count": 33,
      "outputs": [
        {
          "output_type": "stream",
          "name": "stdout",
          "text": [
            "\n",
            "Resumen de datos limpios:\n",
            "            Timestamp         Gender        Country     Occupation  \\\n",
            "count  292364.000000  292364.000000  292364.000000  292364.000000   \n",
            "mean      365.932297       0.820381      28.699081       2.050971   \n",
            "std       212.044436       0.383870      10.188449       1.385326   \n",
            "min         0.000000       0.000000       0.000000       0.000000   \n",
            "25%       182.000000       1.000000      33.000000       1.000000   \n",
            "50%       366.000000       1.000000      34.000000       2.000000   \n",
            "75%       550.000000       1.000000      34.000000       3.000000   \n",
            "max       733.000000       1.000000      34.000000       4.000000   \n",
            "\n",
            "       self_employed  family_history      treatment   Days_Indoors  \\\n",
            "count  292364.000000   292364.000000  292364.000000  292364.000000   \n",
            "mean        0.135352        0.395165       0.504871       1.963309   \n",
            "std         0.390664        0.488887       0.499977       1.420165   \n",
            "min         0.000000        0.000000       0.000000       0.000000   \n",
            "25%         0.000000        0.000000       0.000000       1.000000   \n",
            "50%         0.000000        0.000000       1.000000       2.000000   \n",
            "75%         0.000000        1.000000       1.000000       3.000000   \n",
            "max         2.000000        1.000000       1.000000       4.000000   \n",
            "\n",
            "       Growing_Stress  Changes_Habits  Mental_Health_History    Mood_Swings  \\\n",
            "count   292364.000000   292364.000000          292364.000000  292364.000000   \n",
            "mean         0.998864        1.049107               0.991757       1.032829   \n",
            "std          0.826342        0.835289               0.802591       0.810835   \n",
            "min          0.000000        0.000000               0.000000       0.000000   \n",
            "25%          0.000000        0.000000               0.000000       0.000000   \n",
            "50%          1.000000        1.000000               1.000000       1.000000   \n",
            "75%          2.000000        2.000000               2.000000       2.000000   \n",
            "max          2.000000        2.000000               2.000000       2.000000   \n",
            "\n",
            "       Coping_Struggles  Work_Interest  Social_Weakness  \\\n",
            "count     292364.000000  292364.000000    292364.000000   \n",
            "mean           0.472137       0.945790         0.959687   \n",
            "std            0.499224       0.796893         0.815692   \n",
            "min            0.000000       0.000000         0.000000   \n",
            "25%            0.000000       0.000000         0.000000   \n",
            "50%            0.000000       1.000000         1.000000   \n",
            "75%            1.000000       2.000000         2.000000   \n",
            "max            1.000000       2.000000         2.000000   \n",
            "\n",
            "       mental_health_interview   care_options  \n",
            "count            292364.000000  292364.000000  \n",
            "mean                  0.853094       0.920736  \n",
            "std                   0.429325       0.853071  \n",
            "min                   0.000000       0.000000  \n",
            "25%                   1.000000       0.000000  \n",
            "50%                   1.000000       1.000000  \n",
            "75%                   1.000000       2.000000  \n",
            "max                   2.000000       2.000000  \n"
          ]
        }
      ]
    },
    {
      "cell_type": "markdown",
      "source": [
        "Visualización inicial de las primeras filas de los datos limpios"
      ],
      "metadata": {
        "id": "PoiN6TPoeviJ"
      }
    },
    {
      "cell_type": "code",
      "source": [
        "cleaned_data_head = data.head()\n",
        "print(\"\\nPrimeras filas de los datos limpios:\\n\", cleaned_data_head)"
      ],
      "metadata": {
        "colab": {
          "base_uri": "https://localhost:8080/"
        },
        "id": "HfnefBueeonb",
        "outputId": "5b84aa06-4ce5-4c75-9613-4e91652f333b"
      },
      "execution_count": 34,
      "outputs": [
        {
          "output_type": "stream",
          "name": "stdout",
          "text": [
            "\n",
            "Primeras filas de los datos limpios:\n",
            "    Timestamp  Gender  Country  Occupation  self_employed  family_history  \\\n",
            "0          0       0       34           1              2               0   \n",
            "1          5       0       34           1              2               1   \n",
            "2          6       0       34           1              2               1   \n",
            "3         17       0       34           1              0               1   \n",
            "4         30       0       34           1              0               1   \n",
            "\n",
            "   treatment  Days_Indoors  Growing_Stress  Changes_Habits  \\\n",
            "0          1             0               2               1   \n",
            "1          1             0               2               1   \n",
            "2          1             0               2               1   \n",
            "3          1             0               2               1   \n",
            "4          1             0               2               1   \n",
            "\n",
            "   Mental_Health_History  Mood_Swings  Coping_Struggles  Work_Interest  \\\n",
            "0                      2            2                 0              1   \n",
            "1                      2            2                 0              1   \n",
            "2                      2            2                 0              1   \n",
            "3                      2            2                 0              1   \n",
            "4                      2            2                 0              1   \n",
            "\n",
            "   Social_Weakness  mental_health_interview  care_options  \n",
            "0                2                        1             1  \n",
            "1                2                        1             0  \n",
            "2                2                        1             2  \n",
            "3                2                        0             2  \n",
            "4                2                        1             2  \n"
          ]
        }
      ]
    },
    {
      "cell_type": "markdown",
      "source": [
        "Exploración visual de los datos"
      ],
      "metadata": {
        "id": "QJiyI_j1e2mO"
      }
    },
    {
      "cell_type": "code",
      "source": [
        "plt.figure(figsize=(10, 6))\n",
        "sns.countplot(x='treatment', data=data)\n",
        "plt.title('Distribution of Treatment')\n",
        "plt.show()"
      ],
      "metadata": {
        "colab": {
          "base_uri": "https://localhost:8080/",
          "height": 564
        },
        "id": "xJYuCMOGezZS",
        "outputId": "85742bdf-80d0-4330-9692-27cc90e54365"
      },
      "execution_count": 37,
      "outputs": [
        {
          "output_type": "display_data",
          "data": {
            "text/plain": [
              "<Figure size 1000x600 with 1 Axes>"
            ],
            "image/png": "[encoded data removed]"
          },
          "metadata": {}
        }
      ]
    },
    {
      "cell_type": "code",
      "source": [
        "plt.figure(figsize=(10, 6))\n",
        "sns.countplot(x='family_history', hue='treatment', data=data)\n",
        "plt.title('Family History vs. Treatment')\n",
        "plt.show()"
      ],
      "metadata": {
        "colab": {
          "base_uri": "https://localhost:8080/",
          "height": 564
        },
        "id": "qhFvTC86fpsR",
        "outputId": "4249915d-b68c-4058-c375-909e156e6e88"
      },
      "execution_count": 38,
      "outputs": [
        {
          "output_type": "display_data",
          "data": {
            "text/plain": [
              "<Figure size 1000x600 with 1 Axes>"
            ],
            "image/png": "[encoded data removed]"
          },
          "metadata": {}
        }
      ]
    }
  ]
}